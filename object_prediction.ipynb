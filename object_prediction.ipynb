{
 "cells": [
  {
   "cell_type": "code",
   "execution_count": null,
   "id": "61389764-c06f-409d-b76d-acc6e1ceffb5",
   "metadata": {},
   "outputs": [],
   "source": [
    "import cv2\n",
    "from ultralytics import YOLO\n",
    "# Eğitilmiş modeli yükle\n",
    "model = YOLO(\"runs/detect/train/weights/best.pt\")\n",
    "\n",
    "# Görüntüyü yükle ve tahmin yap\n",
    "image_path = \"test_img.jpg\"\n",
    "results = model.predict(image_path, conf=0.5)\n",
    "\n",
    "# Orijinal görüntüyü oku ve 500x500 piksele yeniden boyutlandır\n",
    "original_image = cv2.imread(image_path)\n",
    "resized_image = cv2.resize(original_image, (500, 500), interpolation=cv2.INTER_AREA)\n",
    "\n",
    "# Tahmin sonuçlarını işle ve bounding box'ları çiz\n",
    "for result in results:\n",
    "    boxes = result.boxes\n",
    "    for box in boxes:\n",
    "        x1, y1, x2, y2 = map(int, box.xyxy[0])\n",
    "        class_id = int(box.cls[0])\n",
    "        label = result.names[class_id]\n",
    "        confidence = float(box.conf[0])\n",
    "        \n",
    "        # Bounding box'ları yeniden boyutlandırılmış görüntüye göre ölçekle\n",
    "        height, width = original_image.shape[:2]\n",
    "        scale_x = 500 / width\n",
    "        scale_y = 500 / height\n",
    "        x1_resized = int(x1 * scale_x)\n",
    "        y1_resized = int(y1 * scale_y)\n",
    "        x2_resized = int(x2 * scale_x)\n",
    "        y2_resized = int(y2 * scale_y)\n",
    "        \n",
    "        # Kutu ve etiketi çiz\n",
    "        cv2.rectangle(resized_image, (x1_resized, y1_resized), (x2_resized, y2_resized), (0, 255, 0), 2)\n",
    "        cv2.putText(resized_image, f\"{label} {confidence:.2f}\", (x1_resized, y1_resized - 10), \n",
    "                   cv2.FONT_HERSHEY_SIMPLEX, 0.9, (0, 255, 0), 2)\n",
    "\n",
    "# Sonucu göster ve kaydet\n",
    "cv2.imshow(\"500x500 Tahmin Sonucu\", resized_image)\n",
    "cv2.imwrite(\"output_500x500.jpg\", resized_image)  # Görüntüyü 500x500 olarak kaydet\n",
    "cv2.waitKey(0)\n",
    "cv2.destroyAllWindows()"
   ]
  }
 ],
 "metadata": {
  "kernelspec": {
   "display_name": "Python 3 (ipykernel)",
   "language": "python",
   "name": "python3"
  },
  "language_info": {
   "codemirror_mode": {
    "name": "ipython",
    "version": 3
   },
   "file_extension": ".py",
   "mimetype": "text/x-python",
   "name": "python",
   "nbconvert_exporter": "python",
   "pygments_lexer": "ipython3",
   "version": "3.12.7"
  }
 },
 "nbformat": 4,
 "nbformat_minor": 5
}
