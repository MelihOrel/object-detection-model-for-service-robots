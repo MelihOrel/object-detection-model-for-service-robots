{
 "cells": [
  {
   "cell_type": "code",
   "execution_count": 1,
   "id": "af4aac2e-e9a9-4d67-85e2-8b8d60366c82",
   "metadata": {},
   "outputs": [],
   "source": [
    "from ultralytics import YOLO\n"
   ]
  },
  {
   "cell_type": "code",
   "execution_count": null,
   "id": "48b3268e-3cf5-4a70-84c1-803e4cf5a719",
   "metadata": {},
   "outputs": [],
   "source": [
    "model = YOLO('yolo11s.pt')"
   ]
  },
  {
   "cell_type": "code",
   "execution_count": null,
   "id": "33735987-bc3a-4c4b-9476-0e186b3155e9",
   "metadata": {},
   "outputs": [],
   "source": [
    "conf= \"conf.yaml\""
   ]
  },
  {
   "cell_type": "code",
   "execution_count": null,
   "id": "56c080bf-ba4e-460f-a922-c3e69011f3c0",
   "metadata": {},
   "outputs": [],
   "source": [
    "results: model.train(\n",
    "    data = conf,\n",
    "    epochs = 100,\n",
    "    batch = 16)"
   ]
  }
 ],
 "metadata": {
  "kernelspec": {
   "display_name": "Python 3 (ipykernel)",
   "language": "python",
   "name": "python3"
  },
  "language_info": {
   "codemirror_mode": {
    "name": "ipython",
    "version": 3
   },
   "file_extension": ".py",
   "mimetype": "text/x-python",
   "name": "python",
   "nbconvert_exporter": "python",
   "pygments_lexer": "ipython3",
   "version": "3.12.7"
  }
 },
 "nbformat": 4,
 "nbformat_minor": 5
}
